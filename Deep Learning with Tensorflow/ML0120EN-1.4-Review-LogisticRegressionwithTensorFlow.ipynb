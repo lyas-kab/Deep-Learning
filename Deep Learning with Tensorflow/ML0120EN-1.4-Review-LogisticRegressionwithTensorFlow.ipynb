{
 "cells": [
  {
   "cell_type": "markdown",
   "metadata": {},
   "source": [
    "<a href=\"https://www.bigdatauniversity.com\"><img src=\"https://ibm.box.com/shared/static/qo20b88v1hbjztubt06609ovs85q8fau.png\" width=\"400px\"  align=\"center\"></a>\n",
    "<h1 align=\"center\"><font size=\"5\">LOGISTIC REGRESSION WITH TENSORFLOW</font></h1>"
   ]
  },
  {
   "cell_type": "markdown",
   "metadata": {},
   "source": [
    "## Table of Contents\n",
    "\n",
    "Logistic Regression is one of most important techniques in data science. It is usually used to solve the classic classification problem.\n",
    "\n",
    "<div class=\"alert alert-block alert-info\" style=\"margin-top: 20px\">\n",
    "<font size = 3><strong>This lesson covers the following concepts of Logistics Regression:</strong></font>\n",
    "<br>\n",
    "<h2>Table of Contents</h2>\n",
    "\n",
    "<ol>\n",
    "    <li><a href=\"#ref1\">Linear Regression vs Logistic Regression</a></li>\n",
    "    <li><a href=\"#ref2\">Utilizing Logistic Regression in TensorFlow</a></li>\n",
    "    <li><a href=\"#ref3\">Training</a></li>\n",
    "</ol>    \n",
    "</div>\n",
    "<p></p>\n",
    "<br>\n",
    "\n",
    "<hr>"
   ]
  },
  {
   "cell_type": "markdown",
   "metadata": {},
   "source": [
    "<a id=\"ref1\"></a>\n",
    "<h2>What is different between Linear and Logistic Regression?</h2>\n",
    "\n",
    "While Linear Regression is suited for estimating continuous values (e.g. estimating house price), it is n0t the best tool for predicting the class in which an observed data point belongs. In order to provide estimate for classification, we need some sort of guidance on what would be the <b>most probable class</b> for that data point. For this, we use <b>Logistic Regression</b>.\n",
    "\n",
    "<div class=\"alert alert-success alertsuccess\" style=\"margin-top: 20px\">\n",
    "<font size=\"3\"><strong>Recall linear regression:</strong></font>\n",
    "<br>\n",
    "<br>\n",
    "Linear regression finds a function that relates a continuous dependent variable, <i>y</i>, to some predictors (independent variables <i>x1</i>, <i>x2</i>, etc.). Simple linear regression assumes a function of the form:\n",
    "<br><br>\n",
    "$$\n",
    "y = w0 + w1 \\times x1 + w2 \\times x2 + \\cdots\n",
    "$$\n",
    "<br>\n",
    "and finds the values of <i>w0</i>, <i>w1</i>, <i>w2</i>, etc. The term <i>w0</i> is the \"intercept\" or \"constant term\" (it's shown as <i>b</i> in the formula below):\n",
    "<br><br>\n",
    "$$\n",
    "Y = W X + b\n",
    "$$\n",
    "<p></p>\n",
    "\n",
    "</div>\n",
    "\n",
    "Logistic Regression is a variation of Linear Regression, useful when the observed dependent variable, <i>y</i>, is categorical. It produces a formula that predicts the probability of the class label as a function of the independent variables.\n",
    "\n",
    "Despite the name logistic <i>regression</i>, it is actually a <b>probabilistic classification</b> model. Logistic regression fits a special s-shaped curve by taking the linear regression and transforming the numeric estimate into a probability with the following function:\n",
    "\n",
    "$$\n",
    "ProbabilityOfaClass = \\theta(y) = \\frac{e^y}{1 + e^y} = exp(y) / (1 + exp(y)) = p \n",
    "$$\n",
    "\n",
    "which produces p-values between 0 (as y approaches minus infinity $-\\infty$) and 1 (as y approaches plus infinity $+\\infty$). This now becomes a special kind of non-linear regression.\n",
    "\n",
    "In this equation, <i>y</i> is the regression result (the sum of the variables weighted by the coefficients), <code>exp</code> is the exponential function and $\\theta(y)$ is the <a href=\"http://en.wikipedia.org/wiki/Logistic_function\">logistic function</a>, also called logistic curve. It is a common \"S\" shape (sigmoid curve), and was first developed for modeling population growth.\n",
    "\n",
    "You might also have seen this function before, in another configuration:\n",
    "\n",
    "$$\n",
    "ProbabilityOfaClass = \\theta(y) = \\frac{1}{1+e^{-y}}\n",
    "$$\n",
    "\n",
    "So, briefly, Logistic Regression passes the input through the logistic/sigmoid function but then treats the result as a probability:\n",
    "\n",
    "<img src=\"https://ibm.box.com/shared/static/kgv9alcghmjcv97op4d6onkyxevk23b1.png\" width=\"400\" align=\"center\">\n"
   ]
  },
  {
   "cell_type": "markdown",
   "metadata": {},
   "source": [
    "-------------------------------"
   ]
  },
  {
   "cell_type": "markdown",
   "metadata": {},
   "source": [
    "<a id=\"ref2\"></a>\n",
    "<h2>Utilizing Logistic Regression in TensorFlow</h2>\n",
    "\n",
    "For us to utilize Logistic Regression in TensorFlow, we first need to import the required libraries. To do so, you can run the code cell below."
   ]
  },
  {
   "cell_type": "code",
   "execution_count": 1,
   "metadata": {},
   "outputs": [
    {
     "name": "stderr",
     "output_type": "stream",
     "text": [
      "/home/jupyterlab/conda/envs/python/lib/python3.6/site-packages/tensorflow/python/framework/dtypes.py:519: FutureWarning: Passing (type, 1) or '1type' as a synonym of type is deprecated; in a future version of numpy, it will be understood as (type, (1,)) / '(1,)type'.\n",
      "  _np_qint8 = np.dtype([(\"qint8\", np.int8, 1)])\n",
      "/home/jupyterlab/conda/envs/python/lib/python3.6/site-packages/tensorflow/python/framework/dtypes.py:520: FutureWarning: Passing (type, 1) or '1type' as a synonym of type is deprecated; in a future version of numpy, it will be understood as (type, (1,)) / '(1,)type'.\n",
      "  _np_quint8 = np.dtype([(\"quint8\", np.uint8, 1)])\n",
      "/home/jupyterlab/conda/envs/python/lib/python3.6/site-packages/tensorflow/python/framework/dtypes.py:521: FutureWarning: Passing (type, 1) or '1type' as a synonym of type is deprecated; in a future version of numpy, it will be understood as (type, (1,)) / '(1,)type'.\n",
      "  _np_qint16 = np.dtype([(\"qint16\", np.int16, 1)])\n",
      "/home/jupyterlab/conda/envs/python/lib/python3.6/site-packages/tensorflow/python/framework/dtypes.py:522: FutureWarning: Passing (type, 1) or '1type' as a synonym of type is deprecated; in a future version of numpy, it will be understood as (type, (1,)) / '(1,)type'.\n",
      "  _np_quint16 = np.dtype([(\"quint16\", np.uint16, 1)])\n",
      "/home/jupyterlab/conda/envs/python/lib/python3.6/site-packages/tensorflow/python/framework/dtypes.py:523: FutureWarning: Passing (type, 1) or '1type' as a synonym of type is deprecated; in a future version of numpy, it will be understood as (type, (1,)) / '(1,)type'.\n",
      "  _np_qint32 = np.dtype([(\"qint32\", np.int32, 1)])\n",
      "/home/jupyterlab/conda/envs/python/lib/python3.6/site-packages/tensorflow/python/framework/dtypes.py:528: FutureWarning: Passing (type, 1) or '1type' as a synonym of type is deprecated; in a future version of numpy, it will be understood as (type, (1,)) / '(1,)type'.\n",
      "  np_resource = np.dtype([(\"resource\", np.ubyte, 1)])\n"
     ]
    }
   ],
   "source": [
    "import tensorflow as tf\n",
    "import pandas as pd\n",
    "import numpy as np\n",
    "import time\n",
    "from sklearn.datasets import load_iris\n",
    "from sklearn.model_selection import train_test_split\n",
    "import matplotlib.pyplot as plt"
   ]
  },
  {
   "cell_type": "markdown",
   "metadata": {},
   "source": [
    "Next, we will load the dataset we are going to use. In this case, we are utilizing the <code>iris</code> dataset, which is inbuilt -- so there's no need to do any preprocessing and we can jump right into manipulating it. We separate the dataset into <i>xs</i> and <i>ys</i>, and then into training <i>xs</i> and <i>ys</i> and testing <i>xs</i> and <i>ys</i>, (pseudo)randomly."
   ]
  },
  {
   "cell_type": "markdown",
   "metadata": {},
   "source": [
    "<h3>Understanding the Data</h3>\n",
    "\n",
    "<h4><code>Iris Dataset</code>:</h4>\n",
    "This dataset was introduced by British Statistician and Biologist Ronald Fisher, it consists of 50 samples from each of three species of Iris (Iris setosa, Iris virginica and Iris versicolor). In total it has 150 records under five attributes - petal length, petal width, sepal length, sepal width and species. <a href=\"https://archive.ics.uci.edu/ml/datasets/iris\">Dataset source</a>\n",
    "\n",
    "Attributes\n",
    "Independent Variable\n",
    "<ul>\n",
    "    <li>petal length</li>\n",
    "    <li>petal width</li>\n",
    "    <li>sepal length</li>\n",
    "    <li>sepal width</li>\n",
    "</ul>\n",
    "Dependent Variable\n",
    "<ul>    \n",
    "    <li>Species\n",
    "        <ul>\n",
    "            <li>Iris setosa</li>\n",
    "            <li>Iris virginica</li>\n",
    "            <li>Iris versicolor</li>\n",
    "        </ul>\n",
    "    </li>\n",
    "</ul>\n",
    "<br>"
   ]
  },
  {
   "cell_type": "code",
   "execution_count": 2,
   "metadata": {},
   "outputs": [],
   "source": [
    "iris = load_iris()\n",
    "iris_X, iris_y = iris.data[:-1,:], iris.target[:-1]\n",
    "iris_y= pd.get_dummies(iris_y).values\n",
    "trainX, testX, trainY, testY = train_test_split(iris_X, iris_y, test_size=0.33, random_state=42)"
   ]
  },
  {
   "cell_type": "markdown",
   "metadata": {},
   "source": [
    "Now we define x and y. These placeholders will hold our iris data (both the features and label matrices), and help pass them along to different parts of the algorithm. You can consider placeholders as empty shells into which we insert our data. We also need to give them shapes which correspond to the shape of our data. Later, we will insert data into these placeholders by “feeding” the placeholders the data via a “feed_dict” (Feed Dictionary).\n",
    "\n",
    "<h3>Why use Placeholders?</h3>\n",
    "\n",
    "<ol>\n",
    "    <li>This feature of TensorFlow allows us to create an algorithm which accepts data and knows something about the shape of the data without knowing the amount of data going in.</li>\n",
    "    <li>When we insert “batches” of data in training, we can easily adjust how many examples we train on in a single step without changing the entire algorithm.</li>\n",
    "</ol>"
   ]
  },
  {
   "cell_type": "code",
   "execution_count": 3,
   "metadata": {},
   "outputs": [
    {
     "data": {
      "text/plain": [
       "4"
      ]
     },
     "execution_count": 3,
     "metadata": {},
     "output_type": "execute_result"
    }
   ],
   "source": [
    "# numFeatures is the number of features in our input data.\n",
    "# In the iris dataset, this number is '4'.\n",
    "numFeatures = trainX.shape[1]\n",
    "\n",
    "# numLabels is the number of classes our data points can be in.\n",
    "# In the iris dataset, this number is '3'.\n",
    "numLabels = trainY.shape[1]\n",
    "\n",
    "\n",
    "# Placeholders\n",
    "# 'None' means TensorFlow shouldn't expect a fixed number in that dimension\n",
    "X = tf.placeholder(tf.float32, [None, numFeatures]) # Iris has 4 features, so X is a tensor to hold our data.\n",
    "yGold = tf.placeholder(tf.float32, [None, numLabels]) # This will be our correct answers matrix for 3 classes.\n",
    "numFeatures"
   ]
  },
  {
   "cell_type": "markdown",
   "metadata": {},
   "source": [
    "<h3>Set model weights and bias</h3>\n",
    "\n",
    "Much like Linear Regression, we need a shared variable weight matrix for Logistic Regression. We initialize both <code>W</code> and <code>b</code> as tensors full of zeros. Since we are going to learn <code>W</code> and <code>b</code>, their initial value does not matter too much. These variables are the objects which define the structure of our regression model, and we can save them after they have been trained so we can reuse them later.\n",
    "\n",
    "We define two TensorFlow variables as our parameters. These variables will hold the weights and biases of our logistic regression and they will be continually updated during training. \n",
    "\n",
    "Notice that <code>W</code> has a shape of [4, 3] because we want to multiply the 4-dimensional input vectors by it to produce 3-dimensional vectors of evidence for the difference classes. <code>b</code> has a shape of [3] so we can add it to the output. Moreover, unlike our placeholders above which are essentially empty shells waiting to be fed data, TensorFlow variables need to be initialized with values, e.g. with zeros."
   ]
  },
  {
   "cell_type": "code",
   "execution_count": 4,
   "metadata": {},
   "outputs": [],
   "source": [
    "W = tf.Variable(tf.zeros([4, 3]))  # 4-dimensional input and  3 classes\n",
    "b = tf.Variable(tf.zeros([3])) # 3-dimensional output [0,0,1],[0,1,0],[1,0,0]"
   ]
  },
  {
   "cell_type": "code",
   "execution_count": 5,
   "metadata": {},
   "outputs": [
    {
     "data": {
      "text/plain": [
       "'\\ntf.random_normal(\\n    shape,\\n    mean=0.0,\\n    stddev=1.0,\\n    dtype=tf.float32,\\n    seed=None,\\n    name=None\\n)\\nArgs:\\nshape: A 1-D integer Tensor or Python array. The shape of the output tensor.\\nmean: A 0-D Tensor or Python value of type dtype. The mean of the normal distribution.\\nstddev: A 0-D Tensor or Python value of type dtype. The standard deviation of the normal distribution.\\ndtype: The type of the output.\\nseed: A Python integer. Used to create a random seed for the distribution. See tf.set_random_seed for behavior.\\nname: A name for the operation (optional).\\n\\n#Returns:\\nA tensor of the specified shape filled with random normal values.\\n'"
      ]
     },
     "execution_count": 5,
     "metadata": {},
     "output_type": "execute_result"
    }
   ],
   "source": [
    "#Randomly sample from a normal distribution with standard deviation .01\n",
    "\n",
    "weights = tf.Variable(tf.random_normal([numFeatures,numLabels],\n",
    "                                       mean=0,\n",
    "                                       stddev=0.01,\n",
    "                                       name=\"weights\"))\n",
    "\n",
    "bias = tf.Variable(tf.random_normal([1,numLabels],\n",
    "                                    mean=0,\n",
    "                                    stddev=0.01,\n",
    "                                    name=\"bias\"))\n",
    "\n",
    "#(tf.random_normal)Outputs random values(tensor) from a normal distribution.\n",
    "\"\"\"\n",
    "tf.random_normal(\n",
    "    shape,\n",
    "    mean=0.0,\n",
    "    stddev=1.0,\n",
    "    dtype=tf.float32,\n",
    "    seed=None,\n",
    "    name=None\n",
    ")\n",
    "Args:\n",
    "shape: A 1-D integer Tensor or Python array. The shape of the output tensor.\n",
    "mean: A 0-D Tensor or Python value of type dtype. The mean of the normal distribution.\n",
    "stddev: A 0-D Tensor or Python value of type dtype. The standard deviation of the normal distribution.\n",
    "dtype: The type of the output.\n",
    "seed: A Python integer. Used to create a random seed for the distribution. See tf.set_random_seed for behavior.\n",
    "name: A name for the operation (optional).\n",
    "\n",
    "#Returns:\n",
    "A tensor of the specified shape filled with random normal values.\n",
    "\"\"\""
   ]
  },
  {
   "cell_type": "markdown",
   "metadata": {},
   "source": [
    "<h3>Logistic Regression model</h3>\n",
    "\n",
    "We now define our operations in order to properly run the Logistic Regression. Logistic regression is typically thought of as a single equation:\n",
    "\n",
    "$$\n",
    "ŷ =sigmoid(WX+b)\n",
    "$$\n",
    "\n",
    "However, for the sake of clarity, we can have it broken into its three main components: \n",
    "- a weight times features matrix multiplication operation, \n",
    "- a summation of the weighted features and a bias term, \n",
    "- and finally the application of a sigmoid function. \n",
    "\n",
    "As such, you will find these components defined as three separate operations below.\n"
   ]
  },
  {
   "cell_type": "code",
   "execution_count": 6,
   "metadata": {},
   "outputs": [],
   "source": [
    "# Three-component breakdown of the Logistic Regression equation.\n",
    "# Note that these feed into each other.\n",
    "apply_weights_OP = tf.matmul(X, weights, name=\"apply_weights\")\n",
    "add_bias_OP = tf.add(apply_weights_OP, bias, name=\"add_bias\") \n",
    "activation_OP = tf.nn.sigmoid(add_bias_OP, name=\"activation\")"
   ]
  },
  {
   "cell_type": "markdown",
   "metadata": {},
   "source": [
    "As we have seen before, the function we are going to use is the <i>logistic function</i> $(\\frac{1}{1+e^{-Wx}})$, which is fed the input data after applying weights and bias. In TensorFlow, this function is implemented as the <code>nn.sigmoid</code> function. Effectively, this fits the weighted input with bias into a 0-100 percent curve, which is the probability function we want."
   ]
  },
  {
   "cell_type": "markdown",
   "metadata": {},
   "source": [
    "<hr>"
   ]
  },
  {
   "cell_type": "markdown",
   "metadata": {},
   "source": [
    "<a id=\"ref3\"></a>\n",
    "<h2>Training</h2>\n",
    "\n",
    "The learning algorithm is how we search for the best weight vector (${\\bf w}$). This search is an optimization problem looking for the hypothesis that optimizes an error/cost measure.\n",
    "\n",
    "<b>What tell us our model is bad?</b>  \n",
    "The Cost or Loss of the model, so what we want is to minimize that. \n",
    "\n",
    "<b>What is the cost function in our model?</b>  \n",
    "The cost function we are going to utilize is the Squared Mean Error loss function.\n",
    "\n",
    "<b>How to minimize the cost function?</b>   \n",
    "We can't use <b>least-squares linear regression</b> here, so we will use <a href=\"http://en.wikipedia.org/wiki/Gradient_descent\">gradient descent</a> instead. Specifically, we will use batch gradient descent which calculates the gradient from all data points in the data set.\n",
    "\n",
    "<h3>Cost function</h3>\n",
    "Before defining our cost function, we need to define how long we are going to train and how should we define the learning rate."
   ]
  },
  {
   "cell_type": "code",
   "execution_count": 7,
   "metadata": {},
   "outputs": [
    {
     "data": {
      "text/plain": [
       "\"\\n(tf.train.exponential_decay) #Applies exponential decay to the learning rate.\\ntf.compat.v1.train.exponential_decay(\\n    learning_rate, global_step, decay_steps, decay_rate, staircase=False, name=None\\n)\\nWhen training a model, it is often recommended to lower the learning rate as the training progresses. This function applies an exponential decay function to a provided initial learning rate. It requires a global_step value to compute the decayed learning rate. You can just pass a TensorFlow variable that you increment at each training step.\\n\\nThe function returns the decayed learning rate. It is computed as:\\ndecayed_learning_rate = learning_rate *\\n                        decay_rate ^ (global_step / decay_steps)\\n\\nIf the argument staircase is True, then global_step / decay_steps is an integer division and the decayed learning rate follows a staircase function.\\n\\nArgs\\nlearning_rate\\tA scalar float32 or float64 Tensor or a Python number. The initial learning rate.\\nglobal_step\\tA scalar int32 or int64 Tensor or a Python number. Global step to use for the decay computation. Must not be negative.\\ndecay_steps\\tA scalar int32 or int64 Tensor or a Python number. Must be positive. See the decay computation above.\\ndecay_rate\\tA scalar float32 or float64 Tensor or a Python number. The decay rate.\\nstaircase\\tBoolean. If True decay the learning rate at discrete intervals\\nname\\tString. Optional name of the operation. Defaults to 'ExponentialDecay'.\\nReturns\\nA scalar Tensor of the same type as learning_rate. The decayed learning rate.\\nRaises\\nValueError\\tif global_step is not supplied.\\nEager Compatibility\\nWhen eager execution is enabled, this function returns a function which in turn returns the decayed learning rate Tensor. This can be useful for changing the learning rate value across different invocations of optimizer functions.\\n\""
      ]
     },
     "execution_count": 7,
     "metadata": {},
     "output_type": "execute_result"
    }
   ],
   "source": [
    "# Number of Epochs in our training\n",
    "numEpochs = 700\n",
    "\n",
    "# Defining our learning rate iterations (decay)\n",
    "learningRate = tf.train.exponential_decay(learning_rate=0.0008,\n",
    "                                          global_step= 1,\n",
    "                                          decay_steps=trainX.shape[0],\n",
    "                                          decay_rate= 0.95,\n",
    "                                          staircase=True)\n",
    "\n",
    "\"\"\"\n",
    "(tf.train.exponential_decay) #Applies exponential decay to the learning rate.\n",
    "tf.compat.v1.train.exponential_decay(\n",
    "    learning_rate, global_step, decay_steps, decay_rate, staircase=False, name=None\n",
    ")\n",
    "When training a model, it is often recommended to lower the learning rate as the training progresses. This function applies an exponential decay function to a provided initial learning rate. It requires a global_step value to compute the decayed learning rate. You can just pass a TensorFlow variable that you increment at each training step.\n",
    "\n",
    "The function returns the decayed learning rate. It is computed as:\n",
    "decayed_learning_rate = learning_rate *\n",
    "                        decay_rate ^ (global_step / decay_steps)\n",
    "\n",
    "If the argument staircase is True, then global_step / decay_steps is an integer division and the decayed learning rate follows a staircase function.\n",
    "\n",
    "Args\n",
    "learning_rate\tA scalar float32 or float64 Tensor or a Python number. The initial learning rate.\n",
    "global_step\tA scalar int32 or int64 Tensor or a Python number. Global step to use for the decay computation. Must not be negative.\n",
    "decay_steps\tA scalar int32 or int64 Tensor or a Python number. Must be positive. See the decay computation above.\n",
    "decay_rate\tA scalar float32 or float64 Tensor or a Python number. The decay rate.\n",
    "staircase\tBoolean. If True decay the learning rate at discrete intervals\n",
    "name\tString. Optional name of the operation. Defaults to 'ExponentialDecay'.\n",
    "Returns\n",
    "A scalar Tensor of the same type as learning_rate. The decayed learning rate.\n",
    "Raises\n",
    "ValueError\tif global_step is not supplied.\n",
    "Eager Compatibility\n",
    "When eager execution is enabled, this function returns a function which in turn returns the decayed learning rate Tensor. This can be useful for changing the learning rate value across different invocations of optimizer functions.\n",
    "\"\"\""
   ]
  },
  {
   "cell_type": "code",
   "execution_count": 8,
   "metadata": {},
   "outputs": [],
   "source": [
    "#Defining our cost function - Squared Mean Error\n",
    "cost_OP = tf.nn.l2_loss(activation_OP-yGold, name=\"squared_error_cost\")\n",
    "\n",
    "\"\"\"\"\n",
    "(tf.nn.l2_loss)\n",
    "tf.nn.l2_loss(\n",
    "    t, name=None\n",
    ")\n",
    "TensorFlow tf.nn.l2_loss() can help us to calculate the l2 loss of a deep learning model, which is a good way to void over-fitting problem.  \n",
    "Computes half the L2 norm of a tensor without the sqrt:\n",
    "\n",
    "output = sum(t ** 2) / 2\n",
    "\n",
    "Args\n",
    "t\tA Tensor. Must be one of the following types: half, bfloat16, float32, float64. Typically 2-D, but may have any dimensions.\n",
    "name\tA name for the operation (optional).\n",
    "Returns\n",
    "A Tensor. Has the same type as t\n",
    "\"\"\"\n",
    "#Defining our Gradient Descent\n",
    "training_OP = tf.train.GradientDescentOptimizer(learningRate).minimize(cost_OP)"
   ]
  },
  {
   "cell_type": "markdown",
   "metadata": {},
   "source": [
    "Now we move on to actually running our operations. We will start with the operations involved in the prediction phase (i.e. the logistic regression itself).\n",
    "\n",
    "First, we need to initialize our weights and biases with zeros or random values via the inbuilt Initialization Op, <b>tf.initialize_all_variables()</b>. This Initialization Op will become a node in our computational graph, and when we put the graph into a session, then the Op will run and create the variables."
   ]
  },
  {
   "cell_type": "code",
   "execution_count": 9,
   "metadata": {},
   "outputs": [],
   "source": [
    "# Create a tensorflow session\n",
    "sess = tf.Session()\n",
    "\n",
    "# Initialize our weights and biases variables.\n",
    "init_OP = tf.global_variables_initializer()\n",
    "\n",
    "# Initialize all tensorflow variables\n",
    "sess.run(init_OP)"
   ]
  },
  {
   "cell_type": "markdown",
   "metadata": {},
   "source": [
    "We also want some additional operations to keep track of our model's efficiency over time. We can do this like so:"
   ]
  },
  {
   "cell_type": "code",
   "execution_count": 10,
   "metadata": {},
   "outputs": [
    {
     "data": {
      "text/plain": [
       "'\\nWrites Summary protocol buffers to event files.\\nThe FileWriter class provides a mechanism to create an event file in a given directory and add summaries and events to it. The class updates the file contents asynchronously. This allows a training program to call methods to add data to the file directly from the training loop, without slowing down training.\\n\\nWhen constructed with a tf.compat.v1.Session parameter, a FileWriter instead forms a compatibility layer over new graph-based summaries to facilitate the use of new summary writing with pre-existing code that expects a FileWriter instance.\\n'"
      ]
     },
     "execution_count": 10,
     "metadata": {},
     "output_type": "execute_result"
    }
   ],
   "source": [
    "# argmax(activation_OP, 1) returns the label with the most probability\n",
    "# argmax(yGold, 1) is the correct label\n",
    "correct_predictions_OP = tf.equal(tf.argmax(activation_OP,1),tf.argmax(yGold,1))\n",
    "\n",
    "\"\"\"\n",
    "tf.equal(\n",
    "    x,\n",
    "    y,\n",
    "    name=None\n",
    ")\n",
    "Returns the truth value of (x == y) element-wise.\n",
    "\n",
    "Args:\n",
    "x: A Tensor. Must be one of the following types: bfloat16, half, float32, float64, uint8, int8, int16, int32, int64, complex64, quint8, qint8, qint32, string, bool, complex128.\n",
    "y: A Tensor. Must have the same type as x.\n",
    "name: A name for the operation (optional).\n",
    "\n",
    "Returns:\n",
    "A Tensor of type bool.\n",
    "\"\"\"\n",
    "# If every false prediction is 0 and every true prediction is 1, the average returns us the accuracy\n",
    "accuracy_OP = tf.reduce_mean(tf.cast(correct_predictions_OP, \"float\"))\n",
    "\"\"\"\n",
    "#tf.cast==> Casts a tensor to a new type.\n",
    "For example:\n",
    "x = tf.constant([1.8, 2.2], dtype=tf.float32)\n",
    "tf.dtypes.cast(x, tf.int32)\n",
    "==> tf.Tensor: shape=(2,), dtype=float32, numpy=array([1., 2], dtype=float32)\n",
    "    \n",
    "Returns\n",
    "A Tensor or SparseTensor or IndexedSlices with same shape as x and same type as dtype.\n",
    "\"\"\"\n",
    "#------------------\n",
    "\"\"\"\n",
    "tf.compat.v1.reduce_mean(\n",
    "    input_tensor, axis=None, keepdims=None, name=None, reduction_indices=None,\n",
    "    keep_dims=None\n",
    ")\n",
    "Computes the mean of elements across dimensions of a tensor.\n",
    "Reduces input_tensor along the dimensions given in axis by computing the mean of elements across the dimensions in axis. Unless keepdims is true, the rank of the tensor is reduced by 1 for each entry in axis. If keepdims is true, the reduced dimensions are retained with length 1.\n",
    "\n",
    "If axis is None, all dimensions are reduced, and a tensor with a single element is returned.\n",
    "\n",
    "For example:\n",
    "x = tf.constant([[1., 1.], [2., 2.]])\n",
    "tf.reduce_mean(x)\n",
    "==> tf.Tensor: shape=(), dtype=float32, numpy=array=1.5\n",
    "tf.reduce_mean(x, 0)\n",
    "==> tf.Tensor: shape=(2,), dtype=float32, numpy=array([1.5, 1.5], dtype=float32)\n",
    "tf.reduce_mean(x, 1)\n",
    "==> tf.Tensor: shape=(2,), dtype=float32, numpy=array([1., 2], dtype=float32)\n",
    "\n",
    "Args\n",
    "input_tensor\tThe tensor to reduce. Should have numeric type.\n",
    "axis\tThe dimensions to reduce. If None (the default), reduces all dimensions. Must be in the range [-rank(input_tensor),rank(input_tensor)).\n",
    "keepdims\tIf true, retains reduced dimensions with length 1.\n",
    "name\tA name for the operation (optional).\n",
    "reduction_indices\tThe old (deprecated) name for axis.\n",
    "keep_dims\tDeprecated alias for keepdims.\n",
    "\n",
    "Returns\n",
    "The reduced tensor.\n",
    "\n",
    "Numpy Compatibility\n",
    "Equivalent to np.mean\n",
    "\n",
    "Please note that np.mean has a dtype parameter that could be used to specify the output type. By default this is dtype=float64. On the other hand, tf.reduce_mean has an aggressive type inference from input_tensor, for example:\n",
    "\n",
    "x = tf.constant([1, 0, 1, 0])\n",
    "tf.reduce_mean(x)\n",
    "==> tf.Tensor: shape=(), dtype=float32, numpy=array=0\n",
    "y = tf.constant([1., 0., 1., 0.])\n",
    "tf.reduce_mean(y)\n",
    "==> tf.Tensor: shape=(), dtype=float32, numpy=array=0.5\n",
    "\"\"\"\n",
    "# Summary op for regression output\n",
    "activation_summary_OP = tf.summary.histogram(\"output\", activation_OP)\n",
    "\n",
    "\"\"\"\n",
    "tf.summary.histogram(\n",
    "    name, data, step=None, buckets=None, description=None\n",
    ")\n",
    "Write a histogram summary.\n",
    "\n",
    "Returns\n",
    "True on success, or false if no summary was emitted because no default summary writer was available.\n",
    "\"\"\"\n",
    "# Summary op for accuracy\n",
    "accuracy_summary_OP = tf.summary.scalar(\"accuracy\", accuracy_OP)\n",
    "#Write a scalar summary.\n",
    "\n",
    "# Summary op for cost\n",
    "cost_summary_OP = tf.summary.scalar(\"cost\", cost_OP)\n",
    "\n",
    "# Summary ops to check how variables (W, b) are updating after each iteration\n",
    "weightSummary = tf.summary.histogram(\"weights\", weights.eval(session=sess))\n",
    "biasSummary = tf.summary.histogram(\"biases\", bias.eval(session=sess))\n",
    "\n",
    "# Merge all summaries\n",
    "merged = tf.summary.merge([activation_summary_OP, accuracy_summary_OP, cost_summary_OP, weightSummary, biasSummary])\n",
    "\"\"\"\n",
    "Merges summaries.\n",
    "This op creates a Summary protocol buffer that contains the union of all the values in the input summaries.\n",
    "\n",
    "Returns\n",
    "A scalar Tensor of type string. The serialized Summary protocol buffer resulting from the merging.\n",
    "\"\"\"\n",
    "\n",
    "# Summary writer\n",
    "writer = tf.summary.FileWriter(\"summary_logs\", sess.graph)\n",
    "\"\"\"\n",
    "Writes Summary protocol buffers to event files.\n",
    "The FileWriter class provides a mechanism to create an event file in a given directory and add summaries and events to it. The class updates the file contents asynchronously. This allows a training program to call methods to add data to the file directly from the training loop, without slowing down training.\n",
    "\n",
    "When constructed with a tf.compat.v1.Session parameter, a FileWriter instead forms a compatibility layer over new graph-based summaries to facilitate the use of new summary writing with pre-existing code that expects a FileWriter instance.\n",
    "\"\"\""
   ]
  },
  {
   "cell_type": "markdown",
   "metadata": {},
   "source": [
    "Now we can define and run the actual training loop, like this:"
   ]
  },
  {
   "cell_type": "code",
   "execution_count": 11,
   "metadata": {},
   "outputs": [
    {
     "name": "stdout",
     "output_type": "stream",
     "text": [
      "step 0, training accuracy 0.353535, cost 34.5096, change in cost 34.5096\n",
      "step 10, training accuracy 0.545455, cost 30.2734, change in cost 4.23619\n",
      "step 20, training accuracy 0.646465, cost 28.2888, change in cost 1.9846\n",
      "step 30, training accuracy 0.646465, cost 26.618, change in cost 1.67079\n",
      "step 40, training accuracy 0.646465, cost 25.2327, change in cost 1.38528\n",
      "step 50, training accuracy 0.646465, cost 24.0903, change in cost 1.14248\n",
      "step 60, training accuracy 0.646465, cost 23.1459, change in cost 0.944353\n",
      "step 70, training accuracy 0.646465, cost 22.3601, change in cost 0.785818\n",
      "step 80, training accuracy 0.646465, cost 21.7003, change in cost 0.659813\n",
      "step 90, training accuracy 0.646465, cost 21.1407, change in cost 0.559578\n",
      "step 100, training accuracy 0.656566, cost 20.6613, change in cost 0.479445\n",
      "step 110, training accuracy 0.666667, cost 20.2463, change in cost 0.414911\n",
      "step 120, training accuracy 0.666667, cost 19.8838, change in cost 0.362503\n",
      "step 130, training accuracy 0.666667, cost 19.5643, change in cost 0.319557\n",
      "step 140, training accuracy 0.666667, cost 19.2802, change in cost 0.284061\n",
      "step 150, training accuracy 0.666667, cost 19.0258, change in cost 0.254469\n",
      "step 160, training accuracy 0.676768, cost 18.7962, change in cost 0.229591\n",
      "step 170, training accuracy 0.686869, cost 18.5877, change in cost 0.208509\n",
      "step 180, training accuracy 0.686869, cost 18.3971, change in cost 0.190514\n",
      "step 190, training accuracy 0.707071, cost 18.2221, change in cost 0.175039\n",
      "step 200, training accuracy 0.717172, cost 18.0605, change in cost 0.161652\n",
      "step 210, training accuracy 0.737374, cost 17.9105, change in cost 0.149988\n",
      "step 220, training accuracy 0.737374, cost 17.7707, change in cost 0.139767\n",
      "step 230, training accuracy 0.747475, cost 17.6399, change in cost 0.130768\n",
      "step 240, training accuracy 0.757576, cost 17.5171, change in cost 0.122793\n",
      "step 250, training accuracy 0.767677, cost 17.4014, change in cost 0.115696\n",
      "step 260, training accuracy 0.787879, cost 17.2921, change in cost 0.10935\n",
      "step 270, training accuracy 0.787879, cost 17.1884, change in cost 0.103649\n",
      "step 280, training accuracy 0.787879, cost 17.0899, change in cost 0.098505\n",
      "step 290, training accuracy 0.787879, cost 16.9961, change in cost 0.093853\n",
      "step 300, training accuracy 0.79798, cost 16.9065, change in cost 0.0896149\n",
      "step 310, training accuracy 0.79798, cost 16.8207, change in cost 0.0857525\n",
      "step 320, training accuracy 0.79798, cost 16.7385, change in cost 0.0822182\n",
      "step 330, training accuracy 0.79798, cost 16.6595, change in cost 0.0789661\n",
      "step 340, training accuracy 0.79798, cost 16.5836, change in cost 0.0759716\n",
      "step 350, training accuracy 0.818182, cost 16.5104, change in cost 0.0732098\n",
      "step 360, training accuracy 0.828283, cost 16.4397, change in cost 0.0706463\n",
      "step 370, training accuracy 0.838384, cost 16.3714, change in cost 0.0682621\n",
      "step 380, training accuracy 0.838384, cost 16.3054, change in cost 0.0660458\n",
      "step 390, training accuracy 0.838384, cost 16.2414, change in cost 0.0639744\n",
      "step 400, training accuracy 0.848485, cost 16.1794, change in cost 0.0620384\n",
      "step 410, training accuracy 0.848485, cost 16.1192, change in cost 0.0602226\n",
      "step 420, training accuracy 0.848485, cost 16.0606, change in cost 0.0585117\n",
      "step 430, training accuracy 0.848485, cost 16.0037, change in cost 0.0569019\n",
      "step 440, training accuracy 0.858586, cost 15.9484, change in cost 0.0553846\n",
      "step 450, training accuracy 0.868687, cost 15.8944, change in cost 0.0539494\n",
      "step 460, training accuracy 0.868687, cost 15.8418, change in cost 0.0525904\n",
      "step 470, training accuracy 0.878788, cost 15.7905, change in cost 0.0513029\n",
      "step 480, training accuracy 0.878788, cost 15.7404, change in cost 0.0500765\n",
      "step 490, training accuracy 0.878788, cost 15.6915, change in cost 0.048914\n",
      "step 500, training accuracy 0.878788, cost 15.6437, change in cost 0.0478067\n",
      "step 510, training accuracy 0.878788, cost 15.597, change in cost 0.0467443\n",
      "step 520, training accuracy 0.878788, cost 15.5512, change in cost 0.0457354\n",
      "step 530, training accuracy 0.878788, cost 15.5065, change in cost 0.0447683\n",
      "step 540, training accuracy 0.888889, cost 15.4626, change in cost 0.0438442\n",
      "step 550, training accuracy 0.89899, cost 15.4197, change in cost 0.0429535\n",
      "step 560, training accuracy 0.89899, cost 15.3776, change in cost 0.0421\n",
      "step 570, training accuracy 0.89899, cost 15.3363, change in cost 0.0412846\n",
      "step 580, training accuracy 0.89899, cost 15.2958, change in cost 0.0404959\n",
      "step 590, training accuracy 0.909091, cost 15.2561, change in cost 0.0397387\n",
      "step 600, training accuracy 0.909091, cost 15.217, change in cost 0.03901\n",
      "step 610, training accuracy 0.909091, cost 15.1787, change in cost 0.0383043\n",
      "step 620, training accuracy 0.909091, cost 15.1411, change in cost 0.0376253\n",
      "step 630, training accuracy 0.909091, cost 15.1042, change in cost 0.0369682\n",
      "step 640, training accuracy 0.909091, cost 15.0678, change in cost 0.036335\n",
      "step 650, training accuracy 0.909091, cost 15.0321, change in cost 0.0357208\n",
      "step 660, training accuracy 0.909091, cost 14.997, change in cost 0.0351276\n",
      "step 670, training accuracy 0.909091, cost 14.9624, change in cost 0.0345516\n",
      "step 680, training accuracy 0.909091, cost 14.9284, change in cost 0.0339947\n",
      "step 690, training accuracy 0.909091, cost 14.895, change in cost 0.0334539\n",
      "final accuracy on test set: 0.9\n"
     ]
    }
   ],
   "source": [
    "# Initialize reporting variables\n",
    "cost = 0\n",
    "diff = 1\n",
    "epoch_values = []\n",
    "accuracy_values = []\n",
    "cost_values = []\n",
    "\n",
    "# Training epochs\n",
    "for i in range(numEpochs):\n",
    "    if i > 1 and diff < .0001:\n",
    "        print(\"change in cost %g; convergence.\"%diff)\n",
    "        break\n",
    "    else:\n",
    "        # Run training step\n",
    "        step = sess.run(training_OP, feed_dict={X: trainX, yGold: trainY})\n",
    "        # Report occasional stats\n",
    "        if i % 10 == 0:\n",
    "            # Add epoch to epoch_values\n",
    "            epoch_values.append(i)\n",
    "            # Generate accuracy stats on test data\n",
    "            train_accuracy, newCost = sess.run([accuracy_OP, cost_OP], feed_dict={X: trainX, yGold: trainY})\n",
    "            # Add accuracy to live graphing variable\n",
    "            accuracy_values.append(train_accuracy)\n",
    "            # Add cost to live graphing variable\n",
    "            cost_values.append(newCost)\n",
    "            # Re-assign values for variables\n",
    "            diff = abs(newCost - cost)\n",
    "            cost = newCost\n",
    "\n",
    "            #generate print statements\n",
    "            print(\"step %d, training accuracy %g, cost %g, change in cost %g\"%(i, train_accuracy, newCost, diff))\n",
    "\n",
    "\n",
    "# How well do we perform on held-out test data?\n",
    "print(\"final accuracy on test set: %s\" %str(sess.run(accuracy_OP, \n",
    "                                                     feed_dict={X: testX, \n",
    "                                                                yGold: testY})))"
   ]
  },
  {
   "cell_type": "markdown",
   "metadata": {},
   "source": [
    "<b>Why don't we plot the cost to see how it behaves?</b>"
   ]
  },
  {
   "cell_type": "code",
   "execution_count": 12,
   "metadata": {},
   "outputs": [
    {
     "name": "stderr",
     "output_type": "stream",
     "text": [
      "/home/jupyterlab/conda/envs/python/lib/python3.6/site-packages/numpy/core/fromnumeric.py:3373: RuntimeWarning: Mean of empty slice.\n",
      "  out=out, **kwargs)\n",
      "/home/jupyterlab/conda/envs/python/lib/python3.6/site-packages/numpy/core/_methods.py:170: RuntimeWarning: invalid value encountered in double_scalars\n",
      "  ret = ret.dtype.type(ret / rcount)\n"
     ]
    },
    {
     "data": {
      "image/png": "[encoded data removed]",
      "text/plain": [
       "<Figure size 432x288 with 1 Axes>"
      ]
     },
     "metadata": {
      "needs_background": "light"
     },
     "output_type": "display_data"
    }
   ],
   "source": [
    "%matplotlib inline\n",
    "import numpy as np\n",
    "import matplotlib.pyplot as plt\n",
    "plt.plot([np.mean(cost_values[i-50:i]) for i in range(len(cost_values))])\n",
    "plt.show()"
   ]
  },
  {
   "cell_type": "markdown",
   "metadata": {},
   "source": [
    "Assuming no parameters were changed, you should reach a peak accuracy of 90% at the end of training, which is commendable. Try changing the parameters such as the length of training, and maybe some operations to see how the model behaves. Does it take much longer? How is the performance?"
   ]
  },
  {
   "cell_type": "markdown",
   "metadata": {},
   "source": [
    "<hr>"
   ]
  }
 ],
 "metadata": {
  "kernelspec": {
   "display_name": "Python",
   "language": "python",
   "name": "conda-env-python-py"
  },
  "language_info": {
   "codemirror_mode": {
    "name": "ipython",
    "version": 3
   },
   "file_extension": ".py",
   "mimetype": "text/x-python",
   "name": "python",
   "nbconvert_exporter": "python",
   "pygments_lexer": "ipython3",
   "version": "3.6.11"
  }
 },
 "nbformat": 4,
 "nbformat_minor": 4
}
